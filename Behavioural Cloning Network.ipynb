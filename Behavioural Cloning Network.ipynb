{
 "cells": [
  {
   "cell_type": "markdown",
   "metadata": {},
   "source": [
    "# Behavioural Cloning Network \n",
    "##### this notebook contains code to drive a car autonomously through the Udacity Car Simulator "
   ]
  },
  {
   "cell_type": "code",
   "execution_count": 1,
   "metadata": {},
   "outputs": [
    {
     "name": "stdout",
     "output_type": "stream",
     "text": [
      "Creating data arrays...\n",
      "Finished loading validation data.\n"
     ]
    }
   ],
   "source": [
    "import csv \n",
    "import cv2 \n",
    "import numpy as np  \n",
    "from sklearn.model_selection import train_test_split\n",
    "from sklearn.utils import shuffle\n",
    "\n",
    "#Reading the CSV data file and saving the images for validation data\n",
    "\n",
    "lines = [] \n",
    "with open('./udacity_data/driving_log.csv') as csvfile:\n",
    "    next(csvfile)\n",
    "    reader = csv.reader(csvfile)\n",
    "    for line in reader: \n",
    "        lines.append(line)\n",
    "        \n",
    "print ('Creating data arrays...')\n",
    "images = [] \n",
    "measurements = [] \n",
    "for line in lines: \n",
    "    source_path = line[0]\n",
    "    filename = source_path.split('/')[-1]\n",
    "    current_path = './udacity_data/IMG/' + filename\n",
    "    image = cv2.imread(current_path)\n",
    "    images.append(image)\n",
    "    measurement = float(line[3]) \n",
    "    measurements.append(measurement)\n",
    "\n",
    "X_val = np.array(images)\n",
    "y_val = np.array(measurements)\n",
    "\n",
    "\n",
    "print('Finished loading validation data.')"
   ]
  },
  {
   "cell_type": "code",
   "execution_count": 2,
   "metadata": {},
   "outputs": [
    {
     "name": "stdout",
     "output_type": "stream",
     "text": [
      "Creating data arrays...\n",
      "Finished loading first set of train data.\n",
      "Creating data arrays...\n",
      "Finished loading 2th set of train data.\n",
      "Done\n",
      "(11073, 160, 320, 3)\n"
     ]
    }
   ],
   "source": [
    "# Reading the CSV data file and saving the images for train data \n",
    "\n",
    "lines = [] \n",
    "with open('./train_data/driving_log.csv') as csvfile:\n",
    "    next(csvfile)\n",
    "    reader = csv.reader(csvfile)\n",
    "    for line in reader: \n",
    "        lines.append(line)\n",
    "        \n",
    "print ('Creating data arrays...')\n",
    "images = [] \n",
    "measurements = [] \n",
    "for line in lines: \n",
    "    source_path = line[0]\n",
    "    filename = source_path.split('/')[-1]\n",
    "    current_path = './train_data/IMG/' + filename\n",
    "    image = cv2.imread(current_path)\n",
    "    images.append(image)\n",
    "    measurement = float(line[3]) \n",
    "    measurements.append(measurement)\n",
    "\n",
    "\n",
    "print('Finished loading first set of train data.')\n",
    "\n",
    "extra_train_sets = 1\n",
    "\n",
    "for i in range(extra_train_sets):\n",
    "    lines = [] \n",
    "    path = './train_data' + str(i+1) + '/driving_log.csv'\n",
    "    with open(path) as csvfile:\n",
    "        next(csvfile)\n",
    "        reader = csv.reader(csvfile)\n",
    "        for line in reader: \n",
    "            lines.append(line)\n",
    "    X_data = images \n",
    "    y_data = measurements\n",
    "    print ('Creating data arrays...')\n",
    "    \n",
    "\n",
    "    path = './train_data' + str(i+1) + '/IMG/'\n",
    "    for line in lines: \n",
    "        source_path = line[0]\n",
    "        filename = source_path.split('/')[-1]\n",
    "        current_path = path + filename\n",
    "        image = cv2.imread(current_path)\n",
    "        images.append(image)\n",
    "        measurement = float(line[3]) \n",
    "        measurements.append(measurement)\n",
    "\n",
    "    print('Finished loading ' + str(i+2) + 'th set of train data.')\n",
    "\n",
    "print('Done')\n",
    "X_data = np.array(images)\n",
    "y_data = np.array(measurements)\n",
    "print(X_data.shape)"
   ]
  },
  {
   "cell_type": "code",
   "execution_count": 19,
   "metadata": {},
   "outputs": [
    {
     "name": "stdout",
     "output_type": "stream",
     "text": [
      "11073\n"
     ]
    }
   ],
   "source": [
    "#image preprocessing steps \n",
    "import csv \n",
    "import cv2 \n",
    "import numpy as np  \n",
    "from sklearn.model_selection import train_test_split\n",
    "from sklearn.utils import shuffle\n",
    "import os\n",
    "\n",
    "validation_samples = [] \n",
    "\n",
    "with open('./udacity_data/driving_log.csv') as csvfile:\n",
    "    next(csvfile)\n",
    "    reader = csv.reader(csvfile)\n",
    "    for line in reader: \n",
    "        validation_samples.append(line)\n",
    "\n",
    "train_samples = []\n",
    "with open('./train_data/driving_log.csv') as csvfile:\n",
    "    next(csvfile)\n",
    "    reader = csv.reader(csvfile)\n",
    "    for line in reader: \n",
    "        train_samples.append(line)        \n",
    "\n",
    "with open('./train_data1/driving_log.csv') as csvfile:\n",
    "    next(csvfile)\n",
    "    reader = csv.reader(csvfile)\n",
    "    for line in reader: \n",
    "        train_samples.append(line) \n",
    "        \n",
    "print(len(train_samples))\n",
    "def generator(samples, dir_name, batch_size=32):\n",
    "    num_samples = len(samples)\n",
    "    while 1: # Loop forever so the generator never terminates\n",
    "        shuffle(samples)\n",
    "        for offset in range(0, num_samples, batch_size):\n",
    "            batch_samples = samples[offset:offset+batch_size]\n",
    "            images = []\n",
    "            angles = []\n",
    "            for batch_sample in batch_samples:\n",
    "                index = 0 \n",
    "                path = './'+ dir_name[index] + '/IMG/'+batch_sample[0].split('/')[-1]\n",
    "                \n",
    "                center_image = cv2.imread(path)\n",
    "                if center_image is None: \n",
    "                    index += 1\n",
    "                    path = './'+ dir_name[index] +'/IMG/'+batch_sample[0].split('/')[-1] \n",
    "                    center_image = cv2.imread(path)\n",
    "                \n",
    "                center_angle = float(batch_sample[3])\n",
    "                images.append(center_image)\n",
    "                angles.append(center_angle)\n",
    "            # trim image to only see section with road\n",
    "            X_train = np.array(images)\n",
    "            y_train = np.array(angles)\n",
    "            yield X_train, y_train\n",
    "\n",
    "\n",
    "\n",
    "\n",
    "\n"
   ]
  },
  {
   "cell_type": "markdown",
   "metadata": {},
   "source": []
  },
  {
   "cell_type": "code",
   "execution_count": 20,
   "metadata": {},
   "outputs": [],
   "source": [
    "from keras.models import Sequential \n",
    "from keras.layers import Flatten, Dense, Lambda, Conv2D\n",
    "from keras.backend import tf as ktf \n",
    "\n",
    "def NvidiaNet(): \n",
    "    \n",
    "    #resizing & normalization lambda layers\n",
    "    resize = Lambda(lambda img: ktf.image.resize_images(img, (66, 200)), input_shape=(160, 320, 3))\n",
    "    normalize = Lambda(lambda x: (x / 255.0) - 0.5)\n",
    "    \n",
    "    model = Sequential() \n",
    "    model.add(resize) \n",
    "    model.add(normalize)\n",
    "    \n",
    "    # input: 3@66x200 conv ouput: 24@31x98\n",
    "    model.add(Conv2D(24, kernel_size=(5,5), strides=(2, 2), padding='valid', activation='relu', kernel_initializer='he_normal', bias_initializer='zeros'))\n",
    "    \n",
    "    # conv output: 36@14x47\n",
    "    model.add(Conv2D(36, kernel_size=(5,5), strides=(2, 2), padding='valid', activation='relu', kernel_initializer='he_normal', bias_initializer='zeros'))          \n",
    "    \n",
    "    # conv output: 48@5x22\n",
    "    model.add(Conv2D(48, kernel_size=(5,5), strides=(2, 2), padding='valid', activation='relu', kernel_initializer='he_normal', bias_initializer='zeros'))    \n",
    "    \n",
    "    # conv output: 64@3x20\n",
    "    model.add(Conv2D(64, kernel_size=(3,3), strides=(1, 1), padding='valid', activation='relu', kernel_initializer='he_normal', bias_initializer='zeros')) \n",
    "    \n",
    "    # conv output: 64@1x18 \n",
    "    model.add(Conv2D(64, kernel_size=(3,3), strides=(1, 1), padding='valid', activation='relu', kernel_initializer='he_normal', bias_initializer='zeros')) \n",
    "    \n",
    "    # Fully connected layers\n",
    "    model.add(Flatten())\n",
    "    model.add(Dense(1164, kernel_initializer='he_normal', bias_initializer='zeros'))\n",
    "    model.add(Dense(100, kernel_initializer='he_normal', bias_initializer='zeros'))\n",
    "    model.add(Dense(50, kernel_initializer='he_normal', bias_initializer='zeros')) \n",
    "    model.add(Dense(10, kernel_initializer='he_normal', bias_initializer='zeros'))\n",
    "    model.add(Dense(1, kernel_initializer='he_normal', bias_initializer='zeros'))\n",
    "    \n",
    "    model.compile(loss='mse', optimizer='adam',  metrics=['accuracy'])\n",
    "    \n",
    "    return model \n",
    "\n",
    "\n",
    "def SimpleNet():\n",
    "    \n",
    "    input_shape=(160,320,3)\n",
    "    model = Sequential() \n",
    "    model.add(Lambda(lambda x: (x / 255.0) - 0.5, input_shape=input_shape))\n",
    "    model.add(Flatten())\n",
    "    model.add(Dense(100))\n",
    "    model.add(Dense(1)) \n",
    "\n",
    "    model.compile(loss='mse', optimizer='adam',  metrics=['accuracy'])\n",
    "    \n",
    "    return model\n",
    "\n",
    "    "
   ]
  },
  {
   "cell_type": "code",
   "execution_count": 21,
   "metadata": {
    "scrolled": true
   },
   "outputs": [
    {
     "name": "stdout",
     "output_type": "stream",
     "text": [
      "2.0.6\n",
      "Epoch 1/7\n",
      "44/43 [==============================] - 20s - loss: 0.2233 - acc: 0.4012 - val_loss: 0.0201 - val_acc: 0.5427\n",
      "Epoch 2/7\n",
      "44/43 [==============================] - 20s - loss: 0.0086 - acc: 0.4164 - val_loss: 0.0187 - val_acc: 0.5427\n",
      "Epoch 3/7\n",
      "44/43 [==============================] - 20s - loss: 0.0072 - acc: 0.4164 - val_loss: 0.0188 - val_acc: 0.5427\n",
      "Epoch 4/7\n",
      "44/43 [==============================] - 20s - loss: 0.0062 - acc: 0.4164 - val_loss: 0.0214 - val_acc: 0.5427\n",
      "Epoch 5/7\n",
      "44/43 [==============================] - 20s - loss: 0.0055 - acc: 0.4164 - val_loss: 0.0187 - val_acc: 0.5427\n",
      "Epoch 6/7\n",
      "44/43 [==============================] - 20s - loss: 0.0050 - acc: 0.4164 - val_loss: 0.0171 - val_acc: 0.5427\n",
      "Epoch 7/7\n",
      "44/43 [==============================] - 20s - loss: 0.0047 - acc: 0.4164 - val_loss: 0.0164 - val_acc: 0.5427\n"
     ]
    }
   ],
   "source": [
    "import keras\n",
    "print(keras.__version__)\n",
    "model = NvidiaNet()\n",
    "\n",
    "\n",
    "#model.fit(X_val, y_val, validation_split=0.2, shuffle=True, nb_epoch=7)\n",
    "#model.fit(X_data, y_data, batch_size=256, shuffle=True, epochs=25, validation_data=(X_val, y_val))\n",
    "# compile and train the model using the generator function\n",
    "train_generator = generator(train_samples,['train_data', 'train_data1'], batch_size=256)\n",
    "validation_generator = generator(validation_samples,['udacity_data'], batch_size=256)\n",
    "model.fit_generator(train_generator, validation_data=validation_generator, validation_steps=8036/256 , epochs=7, steps_per_epoch=11073/256)\n",
    "model.save('model.h5')\n",
    "\n",
    "#./udacity_data/IMG/center_2016_12_01_13_30_48_287.jpg"
   ]
  },
  {
   "cell_type": "code",
   "execution_count": null,
   "metadata": {
    "collapsed": true
   },
   "outputs": [],
   "source": []
  },
  {
   "cell_type": "code",
   "execution_count": null,
   "metadata": {
    "collapsed": true
   },
   "outputs": [],
   "source": []
  }
 ],
 "metadata": {
  "kernelspec": {
   "display_name": "Python 3",
   "language": "python",
   "name": "python3"
  },
  "language_info": {
   "codemirror_mode": {
    "name": "ipython",
    "version": 3
   },
   "file_extension": ".py",
   "mimetype": "text/x-python",
   "name": "python",
   "nbconvert_exporter": "python",
   "pygments_lexer": "ipython3",
   "version": "3.5.2"
  },
  "widgets": {
   "state": {},
   "version": "1.1.2"
  }
 },
 "nbformat": 4,
 "nbformat_minor": 2
}
